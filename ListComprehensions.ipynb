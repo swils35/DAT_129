{
 "cells": [
  {
   "cell_type": "markdown",
   "metadata": {},
   "source": [
    "# A Comprehensive Guide to [List] Comprehensions\n",
    "*examples taken from Lutz 5th Edition unless otherwise noted*\n",
    "\n",
    "Ever think your code was too clunky? That your *for* loop has gotten out of hand? There's a comprehension for that! \n",
    "\n",
    "List comprehensions are a more efficient and faster iteration alternative to the standard *for* loop.\n",
    "\n",
    "1. Pros:\n",
    "    1. Less coding - what can usually take 3 - 4 lines (or more) can usually be done in one.\n",
    "    2. Performance - A comprehension's interations are performed at C language speeds in the interpreter so it's often at least two times faster than the standard *for* loop. This is a huge and noticeable performance difference when working with large data sets. \n",
    "    \n",
    "## Basics\n",
    "\n",
    "Here's a standard for loop to iterate over a list and add 10 to each element. "
   ]
  },
  {
   "cell_type": "code",
   "execution_count": 1,
   "metadata": {},
   "outputs": [
    {
     "name": "stdout",
     "output_type": "stream",
     "text": [
      "11\n",
      "12\n",
      "13\n",
      "14\n",
      "15\n"
     ]
    }
   ],
   "source": [
    "L = [1, 2, 3, 4, 5]\n",
    "\n",
    "for i in range(len(L)):\n",
    "    L[i] += 10\n",
    "    print (L[i])"
   ]
  },
  {
   "cell_type": "markdown",
   "metadata": {},
   "source": [
    "Now take a look at the same thing in a comprehension. Pay attention to the difference in the output."
   ]
  },
  {
   "cell_type": "code",
   "execution_count": 2,
   "metadata": {},
   "outputs": [
    {
     "name": "stdout",
     "output_type": "stream",
     "text": [
      "[11, 12, 13, 14, 15]\n"
     ]
    }
   ],
   "source": [
    "L = [1, 2, 3, 4, 5]\n",
    "\n",
    "L = [x + 10 for x in L]\n",
    "\n",
    "print(L)"
   ]
  },
  {
   "cell_type": "markdown",
   "metadata": {},
   "source": [
    "Do you see the difference? \n",
    "\n",
    "A list comprehension doesn't just stop at performing an operation on a list, it *creates a new list object*. \n",
    "\n",
    "### Syntax\n",
    "\n",
    "You'll notice that in the list comprehension, there's no \"range\" or \"len\" used. It's not necessary. Comprehensions are smarter than your average *for* loop.\n",
    "\n",
    "Let's break it down:\n",
    "\n",
    "**\"L = \"** <--- we're giving the new list object a name, in this instance, we're writing over the content of the original list \"L\" with the results of the comprehension.\n",
    "\n",
    "**\"[x + 10...]\"** <--- performing the operation on the elements in the list.\n",
    "\n",
    "**\"[...for x in L]\"** <--- iterating over the elements in the list. \n",
    "\n",
    "#### Wait, what?\n",
    "\n",
    "This syntax may take a little getting used to. If you look at the expression in the beginning of the comprehension (x + 10), you're performing an operation on something that hasn't been declared yet. X? What is X? This isn't math, I don't want to solve for x. \n",
    "\n",
    "It's not until the end of the comprehension, in the *for* loop, that you see x is the variable representing each element in the list. A comprehension is basically a backwards *for* loop. \n",
    "\n",
    "### List Comprehensions and Files\n",
    "\n",
    "Iterating over a file just got easier!\n",
    "\n",
    "Here's a basic example of file readlines."
   ]
  },
  {
   "cell_type": "code",
   "execution_count": 3,
   "metadata": {},
   "outputs": [
    {
     "name": "stdout",
     "output_type": "stream",
     "text": [
      "[\"Well, I saw the thing coming' out of the sky\\n\", 'It had the one long horn, one big eye\\n', 'I commenced to shakin\\' and I said \"ooh-eee\"\\n', 'It looks like a purple eater to me\\n', \"It was a one-eyed, one-horned flyin' purple people eater\\n\", \"(One-eyed, one-horned, flyin' purple people eater)\\n\", \"A one-eyed, one-horned, flying' purple people eater\\n\", 'Sure looks strange to me (one eye?)\\n', 'Well he came down to earth and he lit in a tree\\n', \"I said Mr. Purple People Eater, don't eat me\\n\", 'I heard him say in a voice so gruff\\n', '\"I wouldn\\'t eat you \\'cause you\\'re so tough\"\\n', \"It was a one-eyed, one-horned flyin' purple people eater\\n\", \"One-eyed, one-horned, flyin' purple people eater\\n\", \"One-eyed, one-horned, flying' purple people eater\\n\", 'Sure looks strange to me (one horn?)\\n', \"I said Mr. Purple People Eater, what's your line?\\n\", 'He said \"eating\\' purple people and it sure is fine\\n', \"But that's not the reason that I came to land\\n\", 'I want to get a job in a rock and roll band\"\\n', \"Well bless my soul, rock and roll, flying' purple people eater\\n\", \"Pigeon-toed, under-growed, flying' purple people eater\\n\", '(We wear short shorts) friendly little people eater\\n', 'What a sight to see (oh!)\\n', 'And then he swung from the tree and he lit on the ground\\n', \"And he started to rock, really rocking' around\\n\", \"It was a crazy ditty with a swinging' tune\\n\", '(Sing a boop-boop, a-boopa lopa lum bam boom)\\n', \"Well bless my soul, rock and roll, flying' purple people eater\\n\", \"Pigeon-toed, under-growed, flying' purple people eater\\n\", '\"I like short shorts!\" friendly little people eater\\n', 'What a sight to see (purple people?)\\n', 'Well, he went on his way, and then what do ya know? \\n', 'I saw him last night on a TV show\\n', \"He was blowing it out, really knockin' em dead\\n\", \"Playin' rock and roll music through the horn in his head\"]\n"
     ]
    }
   ],
   "source": [
    "# example file is my creation\n",
    "\n",
    "f = open('example.txt')\n",
    "lines = f.readlines()\n",
    "print(lines)"
   ]
  },
  {
   "cell_type": "markdown",
   "metadata": {},
   "source": [
    "Not very pretty, right? We could write a standard *for* loop to strip out all those newline characters, or we could make a list comprehension."
   ]
  },
  {
   "cell_type": "code",
   "execution_count": 4,
   "metadata": {},
   "outputs": [
    {
     "name": "stdout",
     "output_type": "stream",
     "text": [
      "[\"Well, I saw the thing coming' out of the sky\", 'It had the one long horn, one big eye', 'I commenced to shakin\\' and I said \"ooh-eee\"', 'It looks like a purple eater to me', \"It was a one-eyed, one-horned flyin' purple people eater\", \"(One-eyed, one-horned, flyin' purple people eater)\", \"A one-eyed, one-horned, flying' purple people eater\", 'Sure looks strange to me (one eye?)', 'Well he came down to earth and he lit in a tree', \"I said Mr. Purple People Eater, don't eat me\", 'I heard him say in a voice so gruff', '\"I wouldn\\'t eat you \\'cause you\\'re so tough\"', \"It was a one-eyed, one-horned flyin' purple people eater\", \"One-eyed, one-horned, flyin' purple people eater\", \"One-eyed, one-horned, flying' purple people eater\", 'Sure looks strange to me (one horn?)', \"I said Mr. Purple People Eater, what's your line?\", 'He said \"eating\\' purple people and it sure is fine', \"But that's not the reason that I came to land\", 'I want to get a job in a rock and roll band\"', \"Well bless my soul, rock and roll, flying' purple people eater\", \"Pigeon-toed, under-growed, flying' purple people eater\", '(We wear short shorts) friendly little people eater', 'What a sight to see (oh!)', 'And then he swung from the tree and he lit on the ground', \"And he started to rock, really rocking' around\", \"It was a crazy ditty with a swinging' tune\", '(Sing a boop-boop, a-boopa lopa lum bam boom)', \"Well bless my soul, rock and roll, flying' purple people eater\", \"Pigeon-toed, under-growed, flying' purple people eater\", '\"I like short shorts!\" friendly little people eater', 'What a sight to see (purple people?)', 'Well, he went on his way, and then what do ya know?', 'I saw him last night on a TV show', \"He was blowing it out, really knockin' em dead\", \"Playin' rock and roll music through the horn in his head\"]\n"
     ]
    }
   ],
   "source": [
    "lines = [line.rstrip() for line in open ('example.txt')]\n",
    "print(lines)"
   ]
  },
  {
   "cell_type": "markdown",
   "metadata": {},
   "source": [
    "Maybe we also want to get rid of those back slashes that somehow crept into the file..."
   ]
  },
  {
   "cell_type": "code",
   "execution_count": 5,
   "metadata": {},
   "outputs": [
    {
     "name": "stdout",
     "output_type": "stream",
     "text": [
      "['Well, I saw the thing coming out of the sky', 'It had the one long horn, one big eye', 'I commenced to shakin and I said \"ooh-eee\"', 'It looks like a purple eater to me', 'It was a one-eyed, one-horned flyin purple people eater', '(One-eyed, one-horned, flyin purple people eater)', 'A one-eyed, one-horned, flying purple people eater', 'Sure looks strange to me (one eye?)', 'Well he came down to earth and he lit in a tree', 'I said Mr. Purple People Eater, dont eat me', 'I heard him say in a voice so gruff', '\"I wouldnt eat you cause youre so tough\"', 'It was a one-eyed, one-horned flyin purple people eater', 'One-eyed, one-horned, flyin purple people eater', 'One-eyed, one-horned, flying purple people eater', 'Sure looks strange to me (one horn?)', 'I said Mr. Purple People Eater, whats your line?', 'He said \"eating purple people and it sure is fine', 'But thats not the reason that I came to land', 'I want to get a job in a rock and roll band\"', 'Well bless my soul, rock and roll, flying purple people eater', 'Pigeon-toed, under-growed, flying purple people eater', '(We wear short shorts) friendly little people eater', 'What a sight to see (oh!)', 'And then he swung from the tree and he lit on the ground', 'And he started to rock, really rocking around', 'It was a crazy ditty with a swinging tune', '(Sing a boop-boop, a-boopa lopa lum bam boom)', 'Well bless my soul, rock and roll, flying purple people eater', 'Pigeon-toed, under-growed, flying purple people eater', '\"I like short shorts!\" friendly little people eater', 'What a sight to see (purple people?)', 'Well, he went on his way, and then what do ya know?', 'I saw him last night on a TV show', 'He was blowing it out, really knockin em dead', 'Playin rock and roll music through the horn in his head']\n"
     ]
    }
   ],
   "source": [
    "lines = [line.rstrip().replace('\\'', '') for line in open('example.txt')]\n",
    "print(lines)"
   ]
  },
  {
   "cell_type": "markdown",
   "metadata": {},
   "source": [
    "Rather than adding an additonal 2-3 lines to create a *for* loop to strip out the newline characters, we were able to open the file, assign the contents to a list called \"lines\", strip out the newline - and, for good measure, get rid of the back slash with a bit of method chaining - all in one line!\n",
    "\n",
    "### Extended Syntax\n",
    "\n",
    "#### If clause\n",
    "\n",
    "Would you like to filter the output from your file to *only* include lines that start with a \"p\"? \n",
    "\n",
    "You could write it in a standard loop like this:"
   ]
  },
  {
   "cell_type": "code",
   "execution_count": 6,
   "metadata": {},
   "outputs": [
    {
     "name": "stdout",
     "output_type": "stream",
     "text": [
      "[\"Pigeon-toed, under-growed, flying' purple people eater\", \"Pigeon-toed, under-growed, flying' purple people eater\", \"Playin' rock and roll music through the horn in his head\"]\n"
     ]
    }
   ],
   "source": [
    "res = []\n",
    "for line in open ('example.txt'):\n",
    "    if line[0] == 'P':\n",
    "        res.append(line.rstrip())\n",
    "print(res)"
   ]
  },
  {
   "cell_type": "markdown",
   "metadata": {},
   "source": [
    "Or the better way:"
   ]
  },
  {
   "cell_type": "code",
   "execution_count": 7,
   "metadata": {},
   "outputs": [
    {
     "name": "stdout",
     "output_type": "stream",
     "text": [
      "['Pigeon-toed, under-growed, flying purple people eater', 'Pigeon-toed, under-growed, flying purple people eater', 'Playin rock and roll music through the horn in his head']\n"
     ]
    }
   ],
   "source": [
    "lines = [line.rstrip().replace('\\'', '') for line in open('example.txt') if line[0] == 'P']\n",
    "print(lines)"
   ]
  },
  {
   "cell_type": "markdown",
   "metadata": {},
   "source": [
    "#### Nested *for* Loops\n",
    "\n",
    "Would you like to do something simple like concatenate two strings so that every x in one string and every y in another create a new string? \n",
    "\n",
    "Once again, you could do it like this:"
   ]
  },
  {
   "cell_type": "code",
   "execution_count": 8,
   "metadata": {},
   "outputs": [
    {
     "name": "stdout",
     "output_type": "stream",
     "text": [
      "['a1', 'a2', 'a3', 'b1', 'b2', 'b3', 'c1', 'c2', 'c3']\n"
     ]
    }
   ],
   "source": [
    "res = []\n",
    "for x in 'abc':\n",
    "    for y in '123':\n",
    "        res.append(x + y)\n",
    "print(res)"
   ]
  },
  {
   "cell_type": "markdown",
   "metadata": {},
   "source": [
    "Look at those sad four lines."
   ]
  },
  {
   "cell_type": "code",
   "execution_count": 9,
   "metadata": {},
   "outputs": [
    {
     "name": "stdout",
     "output_type": "stream",
     "text": [
      "['a1', 'a2', 'a3', 'b1', 'b2', 'b3', 'c1', 'c2', 'c3'] It's easy as 1-2-3, A-B-C baby you and me!\n"
     ]
    }
   ],
   "source": [
    "res = [x + y for x in 'abc' for y in '123']\n",
    "print(str(res) + \" It's easy as 1-2-3, A-B-C baby you and me!\")"
   ]
  },
  {
   "cell_type": "markdown",
   "metadata": {},
   "source": [
    "Note that in both the *if* clause and *for* loop examples, the standard version required you to append to the already existing (empty) list, while the list comprehension does not. This is another side benefit of the fact that list comprehensions are creating a **new** list object. \n",
    "\n",
    "## Exercises\n",
    "\n",
    "1. Make a list out of the word \"KABOOM\" where each element is a letter of the word repeated three times. (Idea stolen from the assignments given during the first day of class)\n",
    "2. Make a list that counts backwards from 10 to 0. \n",
    "3. With the 'example.txt' file open, make a list of lines that have the words 'Purple' or 'purple' in it and perform at least 2 string methods of your choosing on said lines. "
   ]
  },
  {
   "cell_type": "code",
   "execution_count": null,
   "metadata": {},
   "outputs": [],
   "source": []
  }
 ],
 "metadata": {
  "kernelspec": {
   "display_name": "Python 3",
   "language": "python",
   "name": "python3"
  },
  "language_info": {
   "codemirror_mode": {
    "name": "ipython",
    "version": 3
   },
   "file_extension": ".py",
   "mimetype": "text/x-python",
   "name": "python",
   "nbconvert_exporter": "python",
   "pygments_lexer": "ipython3",
   "version": "3.7.3"
  }
 },
 "nbformat": 4,
 "nbformat_minor": 2
}
